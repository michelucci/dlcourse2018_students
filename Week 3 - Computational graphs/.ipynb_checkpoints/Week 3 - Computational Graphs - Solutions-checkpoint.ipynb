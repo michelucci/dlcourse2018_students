{
 "cells": [
  {
   "cell_type": "markdown",
   "metadata": {},
   "source": [
    "# Neural Networks and Deep Learning for Life Sciences and Health Applications - An introductory course about theoretical fundamentals, case studies and implementations in python and tensorflow"
   ]
  },
  {
   "cell_type": "markdown",
   "metadata": {},
   "source": [
    "(C) Umberto Michelucci 2018 - umberto.michelucci@gmail.com \n",
    "\n",
    "github repository: https://github.com/michelucci/dlcourse2018_students\n",
    "\n",
    "Fall Semester 2018"
   ]
  },
  {
   "cell_type": "code",
   "execution_count": 2,
   "metadata": {},
   "outputs": [],
   "source": [
    "import numpy as np\n",
    "import tensorflow as tf"
   ]
  },
  {
   "cell_type": "markdown",
   "metadata": {},
   "source": [
    "## Exercise 1 (Difficulty: easy)"
   ]
  },
  {
   "cell_type": "markdown",
   "metadata": {},
   "source": [
    "Draw and develop in tensorflow with ```tf.constant``` the computational graphs for the following operations\n",
    "\n",
    "A) ```w1*x1+w2*x2+x1*x1```\n",
    "\n",
    "B) ```A*x1+3+x2/2```\n",
    "\n",
    "Use as input values ```x1 = 5``` and ```x2 = 6```. Chose some values for , ```A```, ```w1``` and ```w2```"
   ]
  },
  {
   "cell_type": "markdown",
   "metadata": {},
   "source": [
    "### Case A)"
   ]
  },
  {
   "cell_type": "markdown",
   "metadata": {},
   "source": [
    "Choosing ```w1 = 2``` and ```w2 = 3``` we should "
   ]
  },
  {
   "cell_type": "code",
   "execution_count": 9,
   "metadata": {},
   "outputs": [
    {
     "data": {
      "text/plain": [
       "53"
      ]
     },
     "execution_count": 9,
     "metadata": {},
     "output_type": "execute_result"
    }
   ],
   "source": [
    "2*5+3*6+5*5"
   ]
  },
  {
   "cell_type": "code",
   "execution_count": 5,
   "metadata": {},
   "outputs": [],
   "source": [
    "x1 = tf.constant(5)\n",
    "x2 = tf.constant(6)\n",
    "tmp = tf.multiply(x1,x1)\n",
    "z1 = tf.add(2*x1, 3*x2)\n",
    "z2 = tf.add(z1, tmp)"
   ]
  },
  {
   "cell_type": "code",
   "execution_count": 7,
   "metadata": {},
   "outputs": [
    {
     "name": "stdout",
     "output_type": "stream",
     "text": [
      "53\n"
     ]
    }
   ],
   "source": [
    "sess= tf.Session()\n",
    "print(sess.run(z2))"
   ]
  },
  {
   "cell_type": "code",
   "execution_count": 8,
   "metadata": {},
   "outputs": [],
   "source": [
    "sess.close()"
   ]
  },
  {
   "cell_type": "markdown",
   "metadata": {},
   "source": [
    "### Case B)"
   ]
  },
  {
   "cell_type": "code",
   "execution_count": 23,
   "metadata": {},
   "outputs": [],
   "source": [
    "x1 = tf.constant(5.0)\n",
    "x2 = tf.constant(6.0)\n",
    "A = tf.constant(10.0)\n",
    "const = tf.constant(3.0)\n",
    "z1 = tf.add(tf.multiply(A,x1),const)\n",
    "z2 = tf.divide(x2,tf.constant(2.0))\n",
    "z3 = tf.add(z1,z2)"
   ]
  },
  {
   "cell_type": "code",
   "execution_count": 24,
   "metadata": {},
   "outputs": [
    {
     "name": "stdout",
     "output_type": "stream",
     "text": [
      "56.0\n"
     ]
    }
   ],
   "source": [
    "sess= tf.Session()\n",
    "print(sess.run(z3))"
   ]
  },
  {
   "cell_type": "markdown",
   "metadata": {},
   "source": [
    "## Exercise 2 (Difficulty: medium)"
   ]
  },
  {
   "cell_type": "markdown",
   "metadata": {},
   "source": [
    "Draw and develop in tensorflow with ```tf.Variable``` the computational graph for the following operation ```A*(w1*x1+w2*x2)```\n",
    "\n",
    "build the computational graph and then evaluate it two times (without re-building it) with the initial values in the same session\n",
    "\n",
    "A) ```x1 = 3, x2 = 4```\n",
    "\n",
    "B) ```x1 = 5, x2 = 7```"
   ]
  },
  {
   "cell_type": "markdown",
   "metadata": {},
   "source": [
    "## Exercise 3 (Difficulty: FUN)"
   ]
  },
  {
   "cell_type": "markdown",
   "metadata": {},
   "source": [
    "Consider two vectors\n",
    "\n",
    "``` x1 = [1,2,3,4,5],  x2 = [6,7,8,9,10]```\n",
    "\n",
    "draw and build in tensorflow the computational graph for the dot-product operation between the two vectors. If you don't know what a dot-product is you can check it here (we covered that in our introductory week) [](https://en.wikipedia.org/wiki/Dot_product).\n",
    "\n",
    "Build it in two different ways:\n",
    "\n",
    "A) Do it with loops. Build a computational graph that takes as input scalars and in the session/evaluation phase build a loop to go over all the inputs and then sums the results\n",
    "\n",
    "B) Do it in one shot with tensorflow. Build a computational graph that takes as input vectors and do the entire operation directly in tensorflow. \n",
    "\n",
    "Hint: you can use in tensorflow two methods: ```tf.reduce_sum(tf.multiply(x1, x2))``` or ```tf.matmul(x1, tf.reshape(x2, [-1, 1]))```. Try to understand why they work checking the official documentation."
   ]
  },
  {
   "cell_type": "code",
   "execution_count": null,
   "metadata": {},
   "outputs": [],
   "source": []
  }
 ],
 "metadata": {
  "kernelspec": {
   "display_name": "Python 3",
   "language": "python",
   "name": "python3"
  },
  "language_info": {
   "codemirror_mode": {
    "name": "ipython",
    "version": 3
   },
   "file_extension": ".py",
   "mimetype": "text/x-python",
   "name": "python",
   "nbconvert_exporter": "python",
   "pygments_lexer": "ipython3",
   "version": "3.6.3"
  }
 },
 "nbformat": 4,
 "nbformat_minor": 2
}
